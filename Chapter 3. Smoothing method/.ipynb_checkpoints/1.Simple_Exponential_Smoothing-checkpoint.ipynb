{
 "cells": [
  {
   "cell_type": "markdown",
   "id": "a1315d1a",
   "metadata": {},
   "source": [
    "Simple Exponential Smoothing is used for the series that has no trends, no seasonality. This method put weights on the time series which are decaying exponentially into the past"
   ]
  },
  {
   "cell_type": "code",
   "execution_count": 2,
   "id": "9c980788",
   "metadata": {},
   "outputs": [],
   "source": [
    "import FinanceDataReader as fdr  \n",
    "import pandas as pd\n",
    "import numpy as np\n",
    "from statsmodels.tsa.api import SimpleExpSmoothing\n",
    "from sklearn import metrics"
   ]
  },
  {
   "cell_type": "code",
   "execution_count": 63,
   "id": "f43b15f1",
   "metadata": {},
   "outputs": [],
   "source": [
    "df = fdr.DataReader('FB', '2018-01-01','2020-12-31')"
   ]
  },
  {
   "cell_type": "code",
   "execution_count": 64,
   "id": "a5909a49",
   "metadata": {},
   "outputs": [
    {
     "data": {
      "text/html": [
       "<div>\n",
       "<style scoped>\n",
       "    .dataframe tbody tr th:only-of-type {\n",
       "        vertical-align: middle;\n",
       "    }\n",
       "\n",
       "    .dataframe tbody tr th {\n",
       "        vertical-align: top;\n",
       "    }\n",
       "\n",
       "    .dataframe thead th {\n",
       "        text-align: right;\n",
       "    }\n",
       "</style>\n",
       "<table border=\"1\" class=\"dataframe\">\n",
       "  <thead>\n",
       "    <tr style=\"text-align: right;\">\n",
       "      <th></th>\n",
       "      <th>Close</th>\n",
       "      <th>Open</th>\n",
       "      <th>High</th>\n",
       "      <th>Low</th>\n",
       "      <th>Volume</th>\n",
       "      <th>Change</th>\n",
       "    </tr>\n",
       "    <tr>\n",
       "      <th>Date</th>\n",
       "      <th></th>\n",
       "      <th></th>\n",
       "      <th></th>\n",
       "      <th></th>\n",
       "      <th></th>\n",
       "      <th></th>\n",
       "    </tr>\n",
       "  </thead>\n",
       "  <tbody>\n",
       "    <tr>\n",
       "      <th>2018-01-02</th>\n",
       "      <td>181.42</td>\n",
       "      <td>177.68</td>\n",
       "      <td>181.58</td>\n",
       "      <td>177.55</td>\n",
       "      <td>18150000.0</td>\n",
       "      <td>0.0281</td>\n",
       "    </tr>\n",
       "    <tr>\n",
       "      <th>2018-01-03</th>\n",
       "      <td>184.67</td>\n",
       "      <td>181.88</td>\n",
       "      <td>184.78</td>\n",
       "      <td>181.33</td>\n",
       "      <td>16890000.0</td>\n",
       "      <td>0.0179</td>\n",
       "    </tr>\n",
       "    <tr>\n",
       "      <th>2018-01-04</th>\n",
       "      <td>184.33</td>\n",
       "      <td>184.90</td>\n",
       "      <td>186.21</td>\n",
       "      <td>184.10</td>\n",
       "      <td>13880000.0</td>\n",
       "      <td>-0.0018</td>\n",
       "    </tr>\n",
       "    <tr>\n",
       "      <th>2018-01-05</th>\n",
       "      <td>186.85</td>\n",
       "      <td>185.59</td>\n",
       "      <td>186.90</td>\n",
       "      <td>184.93</td>\n",
       "      <td>13570000.0</td>\n",
       "      <td>0.0137</td>\n",
       "    </tr>\n",
       "    <tr>\n",
       "      <th>2018-01-08</th>\n",
       "      <td>188.28</td>\n",
       "      <td>187.20</td>\n",
       "      <td>188.90</td>\n",
       "      <td>186.33</td>\n",
       "      <td>17990000.0</td>\n",
       "      <td>0.0077</td>\n",
       "    </tr>\n",
       "    <tr>\n",
       "      <th>...</th>\n",
       "      <td>...</td>\n",
       "      <td>...</td>\n",
       "      <td>...</td>\n",
       "      <td>...</td>\n",
       "      <td>...</td>\n",
       "      <td>...</td>\n",
       "    </tr>\n",
       "    <tr>\n",
       "      <th>2020-12-24</th>\n",
       "      <td>267.40</td>\n",
       "      <td>268.88</td>\n",
       "      <td>270.40</td>\n",
       "      <td>266.20</td>\n",
       "      <td>6700000.0</td>\n",
       "      <td>-0.0026</td>\n",
       "    </tr>\n",
       "    <tr>\n",
       "      <th>2020-12-28</th>\n",
       "      <td>277.00</td>\n",
       "      <td>268.88</td>\n",
       "      <td>277.27</td>\n",
       "      <td>265.73</td>\n",
       "      <td>23300000.0</td>\n",
       "      <td>0.0359</td>\n",
       "    </tr>\n",
       "    <tr>\n",
       "      <th>2020-12-29</th>\n",
       "      <td>276.78</td>\n",
       "      <td>276.95</td>\n",
       "      <td>280.48</td>\n",
       "      <td>276.33</td>\n",
       "      <td>16380000.0</td>\n",
       "      <td>-0.0008</td>\n",
       "    </tr>\n",
       "    <tr>\n",
       "      <th>2020-12-30</th>\n",
       "      <td>271.87</td>\n",
       "      <td>277.73</td>\n",
       "      <td>277.90</td>\n",
       "      <td>271.79</td>\n",
       "      <td>11800000.0</td>\n",
       "      <td>-0.0177</td>\n",
       "    </tr>\n",
       "    <tr>\n",
       "      <th>2020-12-31</th>\n",
       "      <td>273.16</td>\n",
       "      <td>272.00</td>\n",
       "      <td>277.09</td>\n",
       "      <td>269.81</td>\n",
       "      <td>12900000.0</td>\n",
       "      <td>0.0047</td>\n",
       "    </tr>\n",
       "  </tbody>\n",
       "</table>\n",
       "<p>756 rows × 6 columns</p>\n",
       "</div>"
      ],
      "text/plain": [
       "             Close    Open    High     Low      Volume  Change\n",
       "Date                                                          \n",
       "2018-01-02  181.42  177.68  181.58  177.55  18150000.0  0.0281\n",
       "2018-01-03  184.67  181.88  184.78  181.33  16890000.0  0.0179\n",
       "2018-01-04  184.33  184.90  186.21  184.10  13880000.0 -0.0018\n",
       "2018-01-05  186.85  185.59  186.90  184.93  13570000.0  0.0137\n",
       "2018-01-08  188.28  187.20  188.90  186.33  17990000.0  0.0077\n",
       "...            ...     ...     ...     ...         ...     ...\n",
       "2020-12-24  267.40  268.88  270.40  266.20   6700000.0 -0.0026\n",
       "2020-12-28  277.00  268.88  277.27  265.73  23300000.0  0.0359\n",
       "2020-12-29  276.78  276.95  280.48  276.33  16380000.0 -0.0008\n",
       "2020-12-30  271.87  277.73  277.90  271.79  11800000.0 -0.0177\n",
       "2020-12-31  273.16  272.00  277.09  269.81  12900000.0  0.0047\n",
       "\n",
       "[756 rows x 6 columns]"
      ]
     },
     "execution_count": 64,
     "metadata": {},
     "output_type": "execute_result"
    }
   ],
   "source": [
    "df"
   ]
  },
  {
   "cell_type": "code",
   "execution_count": 65,
   "id": "00190637",
   "metadata": {},
   "outputs": [],
   "source": [
    "facebook = df['Close']"
   ]
  },
  {
   "cell_type": "code",
   "execution_count": 66,
   "id": "1579c4bf",
   "metadata": {},
   "outputs": [
    {
     "data": {
      "text/plain": [
       "756"
      ]
     },
     "execution_count": 66,
     "metadata": {},
     "output_type": "execute_result"
    }
   ],
   "source": [
    "len(facebook)"
   ]
  },
  {
   "cell_type": "code",
   "execution_count": 67,
   "id": "b051ee35",
   "metadata": {},
   "outputs": [],
   "source": [
    "test = facebook.iloc[-30:]\n",
    "train = facebook.iloc[:-30]"
   ]
  },
  {
   "cell_type": "code",
   "execution_count": 68,
   "id": "2f3475cc",
   "metadata": {},
   "outputs": [],
   "source": [
    "def timeseries_evaluation_metrics_func(y_true, y_pred):\n",
    "    \n",
    "    def mean_absolute_percentage_error(y_true, y_pred): \n",
    "        y_true, y_pred = np.array(y_true), np.array(y_pred)\n",
    "        return np.mean(np.abs((y_true - y_pred) / y_true)) * 100\n",
    "    print('Evaluation metric results:-')\n",
    "    print(f'MSE is : {metrics.mean_squared_error(y_true, y_pred)}')\n",
    "    print(f'MAE is : {metrics.mean_absolute_error(y_true, y_pred)}')\n",
    "    print(f'RMSE is : {np.sqrt(metrics.mean_squared_error(y_true, y_pred))}')\n",
    "    print(f'MAPE is : {mean_absolute_percentage_error(y_true, y_pred)}')\n",
    "    print(f'R2 is : {metrics.r2_score(y_true, y_pred)}',end='\\n\\n')\n",
    "    \n",
    "#Check the accuracy of the model"
   ]
  },
  {
   "cell_type": "code",
   "execution_count": 69,
   "id": "2e0c26ee",
   "metadata": {},
   "outputs": [
    {
     "name": "stdout",
     "output_type": "stream",
     "text": [
      "Fitting for smoothing level= 0\n",
      "Evaluation metric results:-\n",
      "MSE is : 6935.9933460512575\n",
      "MAE is : 83.1153951413076\n",
      "RMSE is : 83.28261130663026\n",
      "MAPE is : 30.110714419379626\n",
      "R2 is : -248.27704581555628\n",
      "\n",
      "Fitting for smoothing level= 0.1\n",
      "Evaluation metric results:-\n",
      "MSE is : 27.88889686179322\n",
      "MAE is : 4.037948245084819\n",
      "RMSE is : 5.280993927452788\n",
      "MAPE is : 1.4615892282654845\n",
      "R2 is : -0.002316679660663512\n",
      "\n",
      "Fitting for smoothing level= 0.2\n",
      "Evaluation metric results:-\n",
      "MSE is : 29.887880288588764\n",
      "MAE is : 4.265507844094541\n",
      "RMSE is : 5.466980911672252\n",
      "MAPE is : 1.5501536070055788\n",
      "R2 is : -0.07415940764562312\n",
      "\n",
      "Fitting for smoothing level= 0.3\n",
      "Evaluation metric results:-\n",
      "MSE is : 29.234895358079225\n",
      "MAE is : 4.15898690567912\n",
      "RMSE is : 5.406930308232132\n",
      "MAPE is : 1.5103414423482038\n",
      "R2 is : -0.05069136978596123\n",
      "\n",
      "Fitting for smoothing level= 0.4\n",
      "Evaluation metric results:-\n",
      "MSE is : 28.534562827352033\n",
      "MAE is : 4.093403098112774\n",
      "RMSE is : 5.341775250546585\n",
      "MAPE is : 1.4847877198446087\n",
      "R2 is : -0.02552167661611482\n",
      "\n",
      "Fitting for smoothing level= 0.5\n",
      "Evaluation metric results:-\n",
      "MSE is : 28.169240616306215\n",
      "MAE is : 4.060168901420144\n",
      "RMSE is : 5.307470265230529\n",
      "MAPE is : 1.4714033425964435\n",
      "R2 is : -0.012392130926432987\n",
      "\n",
      "Fitting for smoothing level= 0.6\n",
      "Evaluation metric results:-\n",
      "MSE is : 27.971336613779332\n",
      "MAE is : 4.046573917814906\n",
      "RMSE is : 5.288793493206114\n",
      "MAPE is : 1.4653988969393987\n",
      "R2 is : -0.005279533978360451\n",
      "\n",
      "Fitting for smoothing level= 0.7\n",
      "Evaluation metric results:-\n",
      "MSE is : 27.851795172385334\n",
      "MAE is : 4.032049182482276\n",
      "RMSE is : 5.277480002082939\n",
      "MAPE is : 1.4589838113078042\n",
      "R2 is : -0.0009832586106521823\n",
      "\n",
      "Fitting for smoothing level= 0.8\n",
      "Evaluation metric results:-\n",
      "MSE is : 27.834873014672585\n",
      "MAE is : 4.014211622928294\n",
      "RMSE is : 5.275876516245673\n",
      "MAPE is : 1.451105562969578\n",
      "R2 is : -0.0003750824961434862\n",
      "\n",
      "Fitting for smoothing level= 0.9\n",
      "Evaluation metric results:-\n",
      "MSE is : 28.0060796082849\n",
      "MAE is : 4.038448359045865\n",
      "RMSE is : 5.292077059934492\n",
      "MAPE is : 1.4581961379496668\n",
      "R2 is : -0.006528184402465165\n",
      "\n",
      "Fitting for smoothing level= 1\n",
      "Evaluation metric results:-\n",
      "MSE is : 28.46496999999999\n",
      "MAE is : 4.08833333333333\n",
      "RMSE is : 5.335257257152647\n",
      "MAPE is : 1.47433030325595\n",
      "R2 is : -0.023020536037289707\n",
      "\n"
     ]
    },
    {
     "name": "stderr",
     "output_type": "stream",
     "text": [
      "C:\\Users\\Albert Lee\\.conda\\envs\\ml_scratch\\lib\\site-packages\\statsmodels\\tsa\\holtwinters\\model.py:427: FutureWarning: After 0.13 initialization must be handled at model creation\n",
      "  warnings.warn(\n",
      "C:\\Users\\Albert Lee\\.conda\\envs\\ml_scratch\\lib\\site-packages\\statsmodels\\tsa\\holtwinters\\model.py:427: FutureWarning: After 0.13 initialization must be handled at model creation\n",
      "  warnings.warn(\n",
      "C:\\Users\\Albert Lee\\.conda\\envs\\ml_scratch\\lib\\site-packages\\statsmodels\\tsa\\holtwinters\\model.py:427: FutureWarning: After 0.13 initialization must be handled at model creation\n",
      "  warnings.warn(\n",
      "C:\\Users\\Albert Lee\\.conda\\envs\\ml_scratch\\lib\\site-packages\\statsmodels\\tsa\\holtwinters\\model.py:427: FutureWarning: After 0.13 initialization must be handled at model creation\n",
      "  warnings.warn(\n",
      "C:\\Users\\Albert Lee\\.conda\\envs\\ml_scratch\\lib\\site-packages\\statsmodels\\tsa\\holtwinters\\model.py:427: FutureWarning: After 0.13 initialization must be handled at model creation\n",
      "  warnings.warn(\n",
      "C:\\Users\\Albert Lee\\.conda\\envs\\ml_scratch\\lib\\site-packages\\statsmodels\\tsa\\holtwinters\\model.py:427: FutureWarning: After 0.13 initialization must be handled at model creation\n",
      "  warnings.warn(\n",
      "C:\\Users\\Albert Lee\\.conda\\envs\\ml_scratch\\lib\\site-packages\\statsmodels\\tsa\\holtwinters\\model.py:427: FutureWarning: After 0.13 initialization must be handled at model creation\n",
      "  warnings.warn(\n",
      "C:\\Users\\Albert Lee\\.conda\\envs\\ml_scratch\\lib\\site-packages\\statsmodels\\tsa\\holtwinters\\model.py:427: FutureWarning: After 0.13 initialization must be handled at model creation\n",
      "  warnings.warn(\n",
      "C:\\Users\\Albert Lee\\.conda\\envs\\ml_scratch\\lib\\site-packages\\statsmodels\\tsa\\holtwinters\\model.py:427: FutureWarning: After 0.13 initialization must be handled at model creation\n",
      "  warnings.warn(\n",
      "C:\\Users\\Albert Lee\\.conda\\envs\\ml_scratch\\lib\\site-packages\\statsmodels\\tsa\\holtwinters\\model.py:427: FutureWarning: After 0.13 initialization must be handled at model creation\n",
      "  warnings.warn(\n",
      "C:\\Users\\Albert Lee\\.conda\\envs\\ml_scratch\\lib\\site-packages\\statsmodels\\tsa\\holtwinters\\model.py:427: FutureWarning: After 0.13 initialization must be handled at model creation\n",
      "  warnings.warn(\n"
     ]
    },
    {
     "data": {
      "text/html": [
       "<div>\n",
       "<style scoped>\n",
       "    .dataframe tbody tr th:only-of-type {\n",
       "        vertical-align: middle;\n",
       "    }\n",
       "\n",
       "    .dataframe tbody tr th {\n",
       "        vertical-align: top;\n",
       "    }\n",
       "\n",
       "    .dataframe thead th {\n",
       "        text-align: right;\n",
       "    }\n",
       "</style>\n",
       "<table border=\"1\" class=\"dataframe\">\n",
       "  <thead>\n",
       "    <tr style=\"text-align: right;\">\n",
       "      <th></th>\n",
       "      <th>smoothing parameter</th>\n",
       "      <th>RMSE</th>\n",
       "    </tr>\n",
       "  </thead>\n",
       "  <tbody>\n",
       "    <tr>\n",
       "      <th>8</th>\n",
       "      <td>0.8</td>\n",
       "      <td>5.275877</td>\n",
       "    </tr>\n",
       "    <tr>\n",
       "      <th>7</th>\n",
       "      <td>0.7</td>\n",
       "      <td>5.277480</td>\n",
       "    </tr>\n",
       "    <tr>\n",
       "      <th>1</th>\n",
       "      <td>0.1</td>\n",
       "      <td>5.280994</td>\n",
       "    </tr>\n",
       "  </tbody>\n",
       "</table>\n",
       "</div>"
      ],
      "text/plain": [
       "   smoothing parameter      RMSE\n",
       "8                  0.8  5.275877\n",
       "7                  0.7  5.277480\n",
       "1                  0.1  5.280994"
      ]
     },
     "execution_count": 69,
     "metadata": {},
     "output_type": "execute_result"
    }
   ],
   "source": [
    "resu = []\n",
    "temp_df = pd.DataFrame()\n",
    "#df2 = pd.DataFrame(columns=['smoothing parameter', 'RMSE'])\n",
    "for i in [0 , 0.10, 0.20, 0.30, 0.40, 0.50, 0.60, 0.70, 0.80, 0.90,1]:\n",
    "    print(f'Fitting for smoothing level= {i}')\n",
    "    fit_v = SimpleExpSmoothing(np.asarray(train)).fit(i)\n",
    "    fcst_pred_v= fit_v.forecast(30)\n",
    "    timeseries_evaluation_metrics_func(test,fcst_pred_v)\n",
    "    rmse = np.sqrt(metrics.mean_squared_error(test, fcst_pred_v))\n",
    "    df3 = {'smoothing parameter':i, 'RMSE': rmse}\n",
    "    temp_df = temp_df.append(df3, ignore_index=True)\n",
    "temp_df.sort_values(by=['RMSE']).head(3)"
   ]
  },
  {
   "cell_type": "code",
   "execution_count": 70,
   "id": "09701c53",
   "metadata": {},
   "outputs": [
    {
     "name": "stdout",
     "output_type": "stream",
     "text": [
      "Evaluation metric results:-\n",
      "MSE is : 27.834873014672585\n",
      "MAE is : 4.014211622928294\n",
      "RMSE is : 5.275876516245673\n",
      "MAPE is : 1.451105562969578\n",
      "R2 is : -0.0003750824961434862\n",
      "\n"
     ]
    },
    {
     "name": "stderr",
     "output_type": "stream",
     "text": [
      "C:\\Users\\Albert Lee\\.conda\\envs\\ml_scratch\\lib\\site-packages\\statsmodels\\tsa\\holtwinters\\model.py:427: FutureWarning: After 0.13 initialization must be handled at model creation\n",
      "  warnings.warn(\n"
     ]
    }
   ],
   "source": [
    "#using values from grid search\n",
    "fitSES = SimpleExpSmoothing(np.asarray(train)).fit( smoothing_level = 0.8,optimized= False)\n",
    "fcst_gs_pred = fitSES.forecast(30)\n",
    "timeseries_evaluation_metrics_func(test,fcst_gs_pred)"
   ]
  },
  {
   "cell_type": "code",
   "execution_count": 71,
   "id": "87df28de",
   "metadata": {},
   "outputs": [
    {
     "name": "stdout",
     "output_type": "stream",
     "text": [
      "Evaluation metric results:-\n",
      "MSE is : 28.064571190868474\n",
      "MAE is : 4.046960267673097\n",
      "RMSE is : 5.297600512578168\n",
      "MAPE is : 1.460949122046087\n",
      "R2 is : -0.00863035033372439\n",
      "\n"
     ]
    },
    {
     "name": "stderr",
     "output_type": "stream",
     "text": [
      "C:\\Users\\Albert Lee\\.conda\\envs\\ml_scratch\\lib\\site-packages\\statsmodels\\tsa\\holtwinters\\model.py:427: FutureWarning: After 0.13 initialization must be handled at model creation\n",
      "  warnings.warn(\n"
     ]
    }
   ],
   "source": [
    "#Automated smoothing_level\n",
    "fitSESauto = SimpleExpSmoothing(np.asarray(train)).fit( optimized= True, use_brute = True)\n",
    "fcst_auto_pred = fitSESauto.forecast(30)\n",
    "timeseries_evaluation_metrics_func(test,fcst_auto_pred)"
   ]
  },
  {
   "cell_type": "code",
   "execution_count": 72,
   "id": "a1a467ae",
   "metadata": {},
   "outputs": [
    {
     "data": {
      "text/html": [
       "<table class=\"simpletable\">\n",
       "<caption>SimpleExpSmoothing Model Results</caption>\n",
       "<tr>\n",
       "  <th>Dep. Variable:</th>           <td>endog</td>       <th>  No. Observations:  </th>        <td>726</td>      \n",
       "</tr>\n",
       "<tr>\n",
       "  <th>Model:</th>            <td>SimpleExpSmoothing</td> <th>  SSE                </th>     <td>16336.499</td>   \n",
       "</tr>\n",
       "<tr>\n",
       "  <th>Optimized:</th>               <td>True</td>        <th>  AIC                </th>     <td>2264.479</td>    \n",
       "</tr>\n",
       "<tr>\n",
       "  <th>Trend:</th>                   <td>None</td>        <th>  BIC                </th>     <td>2273.654</td>    \n",
       "</tr>\n",
       "<tr>\n",
       "  <th>Seasonal:</th>                <td>None</td>        <th>  AICC               </th>     <td>2264.534</td>    \n",
       "</tr>\n",
       "<tr>\n",
       "  <th>Seasonal Periods:</th>        <td>None</td>        <th>  Date:              </th> <td>Fri, 01 Oct 2021</td>\n",
       "</tr>\n",
       "<tr>\n",
       "  <th>Box-Cox:</th>                 <td>False</td>       <th>  Time:              </th>     <td>14:53:31</td>    \n",
       "</tr>\n",
       "<tr>\n",
       "  <th>Box-Cox Coeff.:</th>          <td>None</td>        <th>                     </th>         <td> </td>       \n",
       "</tr>\n",
       "</table>\n",
       "<table class=\"simpletable\">\n",
       "<tr>\n",
       "         <td></td>                 <th>coeff</th>                <th>code</th>               <th>optimized</th>     \n",
       "</tr>\n",
       "<tr>\n",
       "  <th>smoothing_level</th> <td>           0.9179795</td> <td>               alpha</td> <td>                True</td>\n",
       "</tr>\n",
       "<tr>\n",
       "  <th>initial_level</th>   <td>           181.68560</td> <td>                 l.0</td> <td>                True</td>\n",
       "</tr>\n",
       "</table>"
      ],
      "text/plain": [
       "<class 'statsmodels.iolib.summary.Summary'>\n",
       "\"\"\"\n",
       "                       SimpleExpSmoothing Model Results                       \n",
       "==============================================================================\n",
       "Dep. Variable:                  endog   No. Observations:                  726\n",
       "Model:             SimpleExpSmoothing   SSE                          16336.499\n",
       "Optimized:                       True   AIC                           2264.479\n",
       "Trend:                           None   BIC                           2273.654\n",
       "Seasonal:                        None   AICC                          2264.534\n",
       "Seasonal Periods:                None   Date:                 Fri, 01 Oct 2021\n",
       "Box-Cox:                        False   Time:                         14:53:31\n",
       "Box-Cox Coeff.:                  None                                         \n",
       "==============================================================================\n",
       "                       coeff                 code              optimized      \n",
       "------------------------------------------------------------------------------\n",
       "smoothing_level            0.9179795                alpha                 True\n",
       "initial_level              181.68560                  l.0                 True\n",
       "------------------------------------------------------------------------------\n",
       "\"\"\""
      ]
     },
     "execution_count": 72,
     "metadata": {},
     "output_type": "execute_result"
    }
   ],
   "source": [
    "fitSESauto.summary()"
   ]
  },
  {
   "cell_type": "code",
   "execution_count": 73,
   "id": "a76162ad",
   "metadata": {},
   "outputs": [
    {
     "data": {
      "text/html": [
       "<table class=\"simpletable\">\n",
       "<caption>SimpleExpSmoothing Model Results</caption>\n",
       "<tr>\n",
       "  <th>Dep. Variable:</th>           <td>endog</td>       <th>  No. Observations:  </th>        <td>726</td>      \n",
       "</tr>\n",
       "<tr>\n",
       "  <th>Model:</th>            <td>SimpleExpSmoothing</td> <th>  SSE                </th>     <td>16336.499</td>   \n",
       "</tr>\n",
       "<tr>\n",
       "  <th>Optimized:</th>               <td>True</td>        <th>  AIC                </th>     <td>2264.479</td>    \n",
       "</tr>\n",
       "<tr>\n",
       "  <th>Trend:</th>                   <td>None</td>        <th>  BIC                </th>     <td>2273.654</td>    \n",
       "</tr>\n",
       "<tr>\n",
       "  <th>Seasonal:</th>                <td>None</td>        <th>  AICC               </th>     <td>2264.534</td>    \n",
       "</tr>\n",
       "<tr>\n",
       "  <th>Seasonal Periods:</th>        <td>None</td>        <th>  Date:              </th> <td>Fri, 01 Oct 2021</td>\n",
       "</tr>\n",
       "<tr>\n",
       "  <th>Box-Cox:</th>                 <td>False</td>       <th>  Time:              </th>     <td>14:53:31</td>    \n",
       "</tr>\n",
       "<tr>\n",
       "  <th>Box-Cox Coeff.:</th>          <td>None</td>        <th>                     </th>         <td> </td>       \n",
       "</tr>\n",
       "</table>\n",
       "<table class=\"simpletable\">\n",
       "<tr>\n",
       "         <td></td>                 <th>coeff</th>                <th>code</th>               <th>optimized</th>     \n",
       "</tr>\n",
       "<tr>\n",
       "  <th>smoothing_level</th> <td>           0.9179795</td> <td>               alpha</td> <td>                True</td>\n",
       "</tr>\n",
       "<tr>\n",
       "  <th>initial_level</th>   <td>           181.68560</td> <td>                 l.0</td> <td>                True</td>\n",
       "</tr>\n",
       "</table>"
      ],
      "text/plain": [
       "<class 'statsmodels.iolib.summary.Summary'>\n",
       "\"\"\"\n",
       "                       SimpleExpSmoothing Model Results                       \n",
       "==============================================================================\n",
       "Dep. Variable:                  endog   No. Observations:                  726\n",
       "Model:             SimpleExpSmoothing   SSE                          16336.499\n",
       "Optimized:                       True   AIC                           2264.479\n",
       "Trend:                           None   BIC                           2273.654\n",
       "Seasonal:                        None   AICC                          2264.534\n",
       "Seasonal Periods:                None   Date:                 Fri, 01 Oct 2021\n",
       "Box-Cox:                        False   Time:                         14:53:31\n",
       "Box-Cox Coeff.:                  None                                         \n",
       "==============================================================================\n",
       "                       coeff                 code              optimized      \n",
       "------------------------------------------------------------------------------\n",
       "smoothing_level            0.9179795                alpha                 True\n",
       "initial_level              181.68560                  l.0                 True\n",
       "------------------------------------------------------------------------------\n",
       "\"\"\""
      ]
     },
     "execution_count": 73,
     "metadata": {},
     "output_type": "execute_result"
    }
   ],
   "source": [
    "fitSESauto.summary()"
   ]
  },
  {
   "cell_type": "code",
   "execution_count": 74,
   "id": "5b4a65bd",
   "metadata": {},
   "outputs": [],
   "source": [
    "df_fcst_gs_pred = pd.DataFrame(fcst_gs_pred, columns=['Close_grid_Search'])\n",
    "df_fcst_gs_pred[\"new_index\"] = range(30)\n",
    "df_fcst_gs_pred = df_fcst_gs_pred.set_index(\"new_index\")"
   ]
  },
  {
   "cell_type": "code",
   "execution_count": 75,
   "id": "cf06b149",
   "metadata": {},
   "outputs": [],
   "source": [
    "df_fcst_auto_pred = pd.DataFrame(fcst_auto_pred, columns=['Close_auto_search'])\n",
    "df_fcst_auto_pred[\"new_index\"] = range(30)\n",
    "df_fcst_auto_pred = df_fcst_auto_pred.set_index(\"new_index\")"
   ]
  },
  {
   "cell_type": "code",
   "execution_count": 76,
   "id": "75b46aac",
   "metadata": {},
   "outputs": [],
   "source": [
    "test = pd.DataFrame(test, columns = ['Close'])\n",
    "test.columns = ['Test data']\n",
    "test[\"new_index\"] = range(30)\n",
    "test = test.set_index(\"new_index\")"
   ]
  },
  {
   "cell_type": "code",
   "execution_count": 77,
   "id": "ae0f02cc",
   "metadata": {},
   "outputs": [
    {
     "data": {
      "image/png": "[encoded data removed]",
      "text/plain": [
       "<Figure size 1152x648 with 1 Axes>"
      ]
     },
     "metadata": {
      "needs_background": "light"
     },
     "output_type": "display_data"
    }
   ],
   "source": [
    "import matplotlib.pyplot as plt\n",
    "%matplotlib inline\n",
    "plt.rcParams[\"figure.figsize\"] = [16,9]\n",
    "plt.plot(df_fcst_auto_pred, label='Simple Exponential Smoothing using optimized =True')\n",
    "plt.plot(df_fcst_gs_pred, label='Simple Exponential Smoothing using custom grid search')\n",
    "plt.plot(test, label = 'test')\n",
    "plt.legend(loc='best')\n",
    "plt.show()\n"
   ]
  },
  {
   "cell_type": "code",
   "execution_count": null,
   "id": "7606da72",
   "metadata": {},
   "outputs": [],
   "source": []
  }
 ],
 "metadata": {
  "kernelspec": {
   "display_name": "Python 3",
   "language": "python",
   "name": "python3"
  },
  "language_info": {
   "codemirror_mode": {
    "name": "ipython",
    "version": 3
   },
   "file_extension": ".py",
   "mimetype": "text/x-python",
   "name": "python",
   "nbconvert_exporter": "python",
   "pygments_lexer": "ipython3",
   "version": "3.9.6"
  }
 },
 "nbformat": 4,
 "nbformat_minor": 5
}
